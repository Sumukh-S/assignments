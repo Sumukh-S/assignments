{
 "cells": [
  {
   "cell_type": "markdown",
   "metadata": {},
   "source": [
    "### 1. What is Programming language?\n",
    "A programming language is a formal set of instructions that can be used to produce various kinds of output. It serves as a medium for humans to communicate instructions to computers.\n",
    "\n",
    "### 2. Why do we need a programming language?\n",
    "We need programming languages to instruct computers to perform specific tasks or computations efficiently. They provide a structured way to express algorithms and logic, enabling software development for various applications.\n",
    "\n",
    "### 3. What are the features of Java?\n",
    "Some features of Java include platform independence, object-oriented programming support, robustness, security, and automatic memory management (garbage collection).\n",
    "\n",
    "### 4. What is an Object?\n",
    "An object is a fundamental concept in object-oriented programming. It represents a real-world entity or concept and encapsulates data and behaviors.\n",
    "\n",
    "### 5. What is a class?\n",
    "A class is a blueprint for creating objects in object-oriented programming. It defines the properties (attributes or fields) and behaviors (methods) that objects of the class will have.\n",
    "\n",
    "### 6. Explain about the main() method in Java?\n",
    "The main() method in Java is the entry point of a Java program. It is where the execution of the program begins. The JVM (Java Virtual Machine) looks for the main() method in the class specified when running the program, and it executes the code inside this method."
   ]
  }
 ],
 "metadata": {
  "language_info": {
   "name": "python"
  }
 },
 "nbformat": 4,
 "nbformat_minor": 2
}
