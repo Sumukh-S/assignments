{
 "cells": [
  {
   "cell_type": "markdown",
   "metadata": {},
   "source": [
    "1. Statically typed programming languages require variable types to be explicitly declared, while dynamically typed languages do not. For example, Java is statically typed, while Python is dynamically typed."
   ]
  },
  {
   "cell_type": "markdown",
   "metadata": {},
   "source": [
    "2. In Java, a variable is a named memory location used to store data temporarily. Variables must be declared with a specific data type, such as int, double, or String."
   ]
  },
  {
   "cell_type": "markdown",
   "metadata": {},
   "source": [
    "3. To assign a value to a variable in Java, you use the assignment operator (=)"
   ]
  },
  {
   "cell_type": "markdown",
   "metadata": {},
   "source": [
    "4. Primitive data types in Java include int, double, float, boolean, char, byte, short, and long. These data types represent single values, and they are not objects."
   ]
  },
  {
   "cell_type": "markdown",
   "metadata": {},
   "source": [
    "5. Identifiers in Java are names given to classes, methods, variables, and labels. They must begin with a letter (a-z or A-Z), dollar sign ($), or underscore (_) and can be followed by letters, digits, dollar signs, or underscores."
   ]
  },
  {
   "cell_type": "markdown",
   "metadata": {},
   "source": [
    "6. Operators in Java include arithmetic (+, -, *, /, %), relational (==, !=, >, <, >=, <=), logical (&&, ||, !), assignment (=), bitwise (&, |, ^, ~, <<, >>, >>>), and ternary (?:) operators."
   ]
  },
  {
   "cell_type": "markdown",
   "metadata": {},
   "source": [
    "7. Increment (++) and decrement (--) operators are used to increase or decrease the value of a variable by 1, respectively."
   ]
  }
 ],
 "metadata": {
  "language_info": {
   "name": "python"
  }
 },
 "nbformat": 4,
 "nbformat_minor": 2
}
