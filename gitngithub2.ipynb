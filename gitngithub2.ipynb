{
 "cells": [
  {
   "cell_type": "markdown",
   "metadata": {},
   "source": [
    "#### 1. How to check if git is available on your system?\n",
    "Open a terminal and type \"git --version.\""
   ]
  },
  {
   "cell_type": "markdown",
   "metadata": {},
   "source": [
    "#### 2. How to initialize a new Git repository?\n",
    "Use \"git init\" in the project's directory."
   ]
  },
  {
   "cell_type": "markdown",
   "metadata": {},
   "source": [
    "#### 3. How to tell git about your name and email?\n",
    "Set name with \"git config --global user.name\" and email with \"git config --global user.email.\""
   ]
  },
  {
   "cell_type": "markdown",
   "metadata": {},
   "source": [
    "#### 4. How to add a file to the staging area?\n",
    "Add a file with \"git add < filename >.\""
   ]
  },
  {
   "cell_type": "markdown",
   "metadata": {},
   "source": [
    "#### 5. How to remove a file from the staging area?\n",
    "Remove from staging with \"git reset < filename >.\""
   ]
  },
  {
   "cell_type": "markdown",
   "metadata": {},
   "source": [
    "#### How to make a commit?\n",
    "Commit changes with \"git commit -m 'Your message'.\""
   ]
  },
  {
   "cell_type": "markdown",
   "metadata": {},
   "source": [
    "#### 7. How to send your changes to a remote repository?\n",
    "Push changes to remote with \"git push < remote > < branch >.\""
   ]
  },
  {
   "cell_type": "markdown",
   "metadata": {},
   "source": [
    "#### 8. What is the difference between clone and pull?\n",
    "Clone creates a copy, while pull fetches changes and merges."
   ]
  },
  {
   "cell_type": "markdown",
   "metadata": {},
   "source": []
  }
 ],
 "metadata": {
  "language_info": {
   "name": "python"
  }
 },
 "nbformat": 4,
 "nbformat_minor": 2
}
