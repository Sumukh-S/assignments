{
 "cells": [
  {
   "cell_type": "markdown",
   "metadata": {},
   "source": [
    "### What is git?\n",
    "\n",
    "<Answer>Git is a distributed version control system that allows developers to track changes in source code during software development. It provides a way to manage and collaborate on projects, enabling multiple developers to work on the same codebase simultaneously. Git offers features such as branching, merging, and version history, making it easier to manage code changes, revert to previous versions, and collaborate effectively with other team members.\n"
   ]
  },
  {
   "cell_type": "markdown",
   "metadata": {},
   "source": [
    "### What do you understand by the term Version control System\n",
    "<Answer>A version control system is a tool that helps manage changes to source code over time. It keeps track of every modification made to the code\n"
   ]
  },
  {
   "cell_type": "markdown",
   "metadata": {},
   "source": [
    "### What is GitHub?\n",
    "<i>GitHub</i> is a web-based hosting service for version control using Git. It allows developers to store, manage and share."
   ]
  },
  {
   "cell_type": "markdown",
   "metadata": {},
   "source": [
    "### Mention some git hosting services\n",
    "Popular Git hosting services include GitHub, GitLab, and Bitbucket."
   ]
  },
  {
   "cell_type": "markdown",
   "metadata": {},
   "source": [
    "### Different types of version control systems\n",
    "Different types of version control systems are distributed version control systems (DVCS) and centralized version control systems (CVCS)."
   ]
  },
  {
   "cell_type": "markdown",
   "metadata": {},
   "source": [
    "### Benifits using git?\n",
    "collaboration, version control, branching, and a decentralized workflow"
   ]
  },
  {
   "cell_type": "markdown",
   "metadata": {},
   "source": [
    "### what is a git repository?\n",
    "A Git repository is a storage location where a project's version-controlled files and their history are stored."
   ]
  },
  {
   "cell_type": "markdown",
   "metadata": {},
   "source": [
    "### How can you initialize a repository in Git?\n",
    "To initialize a repository in Git, use the command: 'git init'"
   ]
  }
 ],
 "metadata": {
  "language_info": {
   "name": "python"
  }
 },
 "nbformat": 4,
 "nbformat_minor": 2
}
