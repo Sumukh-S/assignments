{
 "cells": [
  {
   "cell_type": "markdown",
   "metadata": {},
   "source": [
    "### What is git?\n",
    "\n",
    "<Answer>Git is a distributed version control system that allows developers to track changes in source code during software development. It provides a way to manage and collaborate on projects, enabling multiple developers to work on the same codebase simultaneously. Git offers features such as branching, merging, and version history, making it easier to manage code changes, revert to previous versions, and collaborate effectively with other team members.\n"
   ]
  },
  {
   "cell_type": "markdown",
   "metadata": {},
   "source": [
    "### What do you understand by the term Version control System\n",
    "<Answer>A version control system is a tool that helps manage changes to source code over time. It keeps track of every modification made to the code\n"
   ]
  },
  {
   "cell_type": "markdown",
   "metadata": {},
   "source": [
    "### What is GitHub?\n",
    "<i>GitHub</i> is a web-based hosting service for version control using Git. It allows developers to store, manage and share."
   ]
  }
 ],
 "metadata": {
  "language_info": {
   "name": "python"
  }
 },
 "nbformat": 4,
 "nbformat_minor": 2
}
